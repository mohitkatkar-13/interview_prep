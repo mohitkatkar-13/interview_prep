{
 "cells": [
  {
   "cell_type": "code",
   "execution_count": 1,
   "id": "c00aa95e",
   "metadata": {},
   "outputs": [],
   "source": [
    "from pyspark.sql import SparkSession"
   ]
  },
  {
   "cell_type": "code",
   "execution_count": 2,
   "id": "4729199f",
   "metadata": {},
   "outputs": [
    {
     "name": "stderr",
     "output_type": "stream",
     "text": [
      "Setting default log level to \"WARN\".\n",
      "To adjust logging level use sc.setLogLevel(newLevel). For SparkR, use setLogLevel(newLevel).\n",
      "25/04/25 23:34:40 WARN NativeCodeLoader: Unable to load native-hadoop library for your platform... using builtin-java classes where applicable\n"
     ]
    }
   ],
   "source": [
    "spark = SparkSession.builder.appName(\"Practice\").getOrCreate()"
   ]
  },
  {
   "cell_type": "code",
   "execution_count": 23,
   "id": "3545bd8c",
   "metadata": {},
   "outputs": [],
   "source": [
    "df = spark.read.csv('/home/mohitkatkar/Documents/Data_Engg_Dcos/interview_prep/test_data.csv',sep='@$',header=True)"
   ]
  },
  {
   "cell_type": "code",
   "execution_count": 26,
   "id": "25117e79",
   "metadata": {},
   "outputs": [],
   "source": [
    "df.write.format('csv').mode('overwrite').save('/home/mohitkatkar/Documents/Data_Engg_Dcos/interview_prep/test_data_saved.csv')"
   ]
  },
  {
   "cell_type": "code",
   "execution_count": 19,
   "id": "bd046a02",
   "metadata": {},
   "outputs": [],
   "source": [
    "df = spark.read.format('csv').option('delimeter','@').option('header','True').load('/home/mohitkatkar/Documents/Data_Engg_Dcos/interview_prep/test_data.csv')"
   ]
  },
  {
   "cell_type": "code",
   "execution_count": 20,
   "id": "87acdaa5",
   "metadata": {},
   "outputs": [
    {
     "name": "stdout",
     "output_type": "stream",
     "text": [
      "+--------------------+\n",
      "|empid@$empName@$dept|\n",
      "+--------------------+\n",
      "|       1@$Suman@$IT |\n",
      "|       2@$Sushma@$HR|\n",
      "+--------------------+\n",
      "\n"
     ]
    }
   ],
   "source": [
    "df.show()"
   ]
  },
  {
   "cell_type": "code",
   "execution_count": null,
   "id": "7386e0f6",
   "metadata": {},
   "outputs": [],
   "source": []
  }
 ],
 "metadata": {
  "kernelspec": {
   "display_name": "Python 3",
   "language": "python",
   "name": "python3"
  },
  "language_info": {
   "codemirror_mode": {
    "name": "ipython",
    "version": 3
   },
   "file_extension": ".py",
   "mimetype": "text/x-python",
   "name": "python",
   "nbconvert_exporter": "python",
   "pygments_lexer": "ipython3",
   "version": "3.13.3"
  }
 },
 "nbformat": 4,
 "nbformat_minor": 5
}

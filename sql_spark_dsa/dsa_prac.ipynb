{
 "cells": [
  {
   "cell_type": "markdown",
   "id": "1f0fc901",
   "metadata": {},
   "source": [
    "## Hashing Problems (Array)"
   ]
  },
  {
   "cell_type": "code",
   "execution_count": 1,
   "id": "0228ae1f",
   "metadata": {},
   "outputs": [
    {
     "data": {
      "text/plain": [
       "[1, 2, 3, 1, 2, 3]"
      ]
     },
     "execution_count": 1,
     "metadata": {},
     "output_type": "execute_result"
    }
   ],
   "source": [
    "# Concatenation of Array\n",
    "arr = [1,2,3]\n",
    "#expected op = [1,2,3,1,2,3]\n",
    "def getConcatenation(nums):\n",
    "    ans = []\n",
    "    for i in range(2):\n",
    "        for i in nums:\n",
    "            ans.append(i)\n",
    "    return ans\n",
    "getConcatenation(arr)"
   ]
  },
  {
   "cell_type": "code",
   "execution_count": 8,
   "id": "3954f5bb",
   "metadata": {},
   "outputs": [
    {
     "data": {
      "text/plain": [
       "True"
      ]
     },
     "execution_count": 8,
     "metadata": {},
     "output_type": "execute_result"
    }
   ],
   "source": [
    "# Contains duplicate - return true if any value is repeated in an array\n",
    "arr = [1,2,3,2]\n",
    "\n",
    "def containsDuplicate(nums):\n",
    "    hashMap = {}\n",
    "    for i in nums:\n",
    "        hashMap[i] = 1 + hashMap.get(i,0)     \n",
    "\n",
    "    for v in hashMap.values():\n",
    "        if v > 1:\n",
    "            return True\n",
    "    return False\n",
    "containsDuplicate(arr)"
   ]
  },
  {
   "cell_type": "code",
   "execution_count": 11,
   "id": "6e3c92e5",
   "metadata": {},
   "outputs": [
    {
     "data": {
      "text/plain": [
       "True"
      ]
     },
     "execution_count": 11,
     "metadata": {},
     "output_type": "execute_result"
    }
   ],
   "source": [
    "# Contains duplicate - return true if any value is repeated in an array\n",
    "arr = [1,2,3,1]\n",
    "\n",
    "def contains_duplicate(nums):\n",
    "    seen = set()\n",
    "    for n in nums:\n",
    "        if n in seen:\n",
    "            return True\n",
    "        seen.add(n)\n",
    "    return False\n",
    "\n",
    "contains_duplicate(arr)"
   ]
  },
  {
   "cell_type": "code",
   "execution_count": 20,
   "id": "235a81c5",
   "metadata": {},
   "outputs": [
    {
     "data": {
      "text/plain": [
       "False"
      ]
     },
     "execution_count": 20,
     "metadata": {},
     "output_type": "execute_result"
    }
   ],
   "source": [
    "# Valid Anagram \n",
    "s = \"abcba\"\n",
    "t = \"badab\"\n",
    "\n",
    "def validAnagram(s,t):\n",
    "    \n",
    "    if len(s) != len(t):\n",
    "        return False\n",
    "    \n",
    "    hashMap1 = {}\n",
    "    hashMap2 = {}\n",
    "    \n",
    "    for i in range(len(s)):\n",
    "        hashMap1[s[i]] = 1 + hashMap1.get(s[i],0)\n",
    "        hashMap2[t[i]] = 1 + hashMap2.get(t[i],0)\n",
    " \n",
    "        \n",
    "    return hashMap1 == hashMap2\n",
    "\n",
    "validAnagram(s,t)"
   ]
  },
  {
   "cell_type": "code",
   "execution_count": 26,
   "id": "9e4f308b",
   "metadata": {},
   "outputs": [
    {
     "data": {
      "text/plain": [
       "(2, 6)"
      ]
     },
     "execution_count": 26,
     "metadata": {},
     "output_type": "execute_result"
    }
   ],
   "source": [
    "# Two Sum Problem\n",
    "# Given an array of integers nums and an integer target, return the indices i and j such that nums[i] + nums[j] == target and i != j.\n",
    "\n",
    "nums = [3,4,5,6,4,2,7,5,9,8,1]\n",
    "k = 12\n",
    "\n",
    "def twoSum(arr):\n",
    "    \n",
    "    hashmap = {}\n",
    "    \n",
    "    for i in range(len(arr)):\n",
    "        target = k - arr[i]\n",
    "        if target in hashmap:\n",
    "            return hashmap[target], i\n",
    "        else:\n",
    "            hashmap[arr[i]] = i\n",
    "\n",
    "twoSum(nums)"
   ]
  },
  {
   "cell_type": "code",
   "execution_count": 38,
   "id": "7ae020f0",
   "metadata": {},
   "outputs": [
    {
     "data": {
      "text/plain": [
       "[['act', 'cat'], ['pots', 'tops', 'stop'], ['hat']]"
      ]
     },
     "execution_count": 38,
     "metadata": {},
     "output_type": "execute_result"
    }
   ],
   "source": [
    "# Group Anagrams\n",
    "\n",
    "strs = [\"act\",\"pots\",\"tops\",\"cat\",\"stop\",\"hat\"]\n",
    "# expected o/p = [[\"hat\"],[\"act\", \"cat\"],[\"stop\", \"pots\", \"tops\"]]\n",
    "\n",
    "from collections import defaultdict\n",
    "\n",
    "def groupAnagrams(arr):\n",
    "    res = defaultdict(list)\n",
    "    for s in arr:\n",
    "        count = [0] * 26\n",
    "        for c in s:\n",
    "            count[ord(c) - ord('a')] += 1\n",
    "        res[tuple(count)].append(s)\n",
    "    return list(res.values())\n",
    "\n",
    "groupAnagrams(strs)"
   ]
  },
  {
   "cell_type": "code",
   "execution_count": 41,
   "id": "45810801",
   "metadata": {},
   "outputs": [
    {
     "data": {
      "text/plain": [
       "[['act', 'cat'], ['pots', 'tops', 'stop'], ['hat']]"
      ]
     },
     "execution_count": 41,
     "metadata": {},
     "output_type": "execute_result"
    }
   ],
   "source": [
    "# Group Anagrams\n",
    "\n",
    "strs = [\"act\",\"pots\",\"tops\",\"cat\",\"stop\",\"hat\"]\n",
    "# expected o/p = [[\"hat\"],[\"act\", \"cat\"],[\"stop\", \"pots\", \"tops\"]]\n",
    "\n",
    "from collections import defaultdict\n",
    "\n",
    "def group_anagram(arr):\n",
    "    \n",
    "    res = defaultdict(list)\n",
    "    \n",
    "    for i in arr:\n",
    "        count = [0] * 26\n",
    "        for c in i:\n",
    "            count[ord(c) - ord('a')] += 1\n",
    "        res[tuple(count)].append(i)\n",
    "    return list(res.values())\n",
    "\n",
    "group_anagram(strs)"
   ]
  },
  {
   "cell_type": "code",
   "execution_count": 55,
   "id": "6bdd3a58",
   "metadata": {},
   "outputs": [
    {
     "data": {
      "text/plain": [
       "[3, 2]"
      ]
     },
     "execution_count": 55,
     "metadata": {},
     "output_type": "execute_result"
    }
   ],
   "source": [
    "# Top K Elements\n",
    "\n",
    "nums = [1,2,2,3,3,3,4]\n",
    "k = 2\n",
    "\n",
    "def topKfrequent(arr,k):\n",
    "    hashMap = {}\n",
    "    for i in arr:\n",
    "        hashMap[i] = 1 + hashMap.get(i,0)\n",
    "    \n",
    "    lst = []\n",
    "    for key,value in hashMap.items():\n",
    "        lst.append([value,key])    \n",
    "    lst.sort()\n",
    "    \n",
    "    res = []\n",
    "    while len(res) < k:\n",
    "        res.append(lst.pop()[1])\n",
    "    \n",
    "    return res\n",
    "\n",
    "\n",
    "topKfrequent(nums,k)"
   ]
  },
  {
   "cell_type": "code",
   "execution_count": 58,
   "id": "6f4da298",
   "metadata": {},
   "outputs": [
    {
     "data": {
      "text/plain": [
       "[[], [1, 4], [2], [3], [], [], [], []]"
      ]
     },
     "execution_count": 58,
     "metadata": {},
     "output_type": "execute_result"
    }
   ],
   "source": [
    "def topKFrequent(nums):\n",
    "    count = {}\n",
    "    freq = [[] for i in range(len(nums) + 1)]\n",
    "\n",
    "    for num in nums:\n",
    "        count[num] = 1 + count.get(num, 0)\n",
    "    for num, cnt in count.items():\n",
    "        freq[cnt].append(num)\n",
    "    \n",
    "    return freq\n",
    "    \n",
    "topKFrequent(nums)"
   ]
  },
  {
   "cell_type": "code",
   "execution_count": null,
   "id": "2e345a20",
   "metadata": {},
   "outputs": [],
   "source": []
  }
 ],
 "metadata": {
  "kernelspec": {
   "display_name": "Python 3",
   "language": "python",
   "name": "python3"
  },
  "language_info": {
   "codemirror_mode": {
    "name": "ipython",
    "version": 3
   },
   "file_extension": ".py",
   "mimetype": "text/x-python",
   "name": "python",
   "nbconvert_exporter": "python",
   "pygments_lexer": "ipython3",
   "version": "3.13.3"
  }
 },
 "nbformat": 4,
 "nbformat_minor": 5
}
